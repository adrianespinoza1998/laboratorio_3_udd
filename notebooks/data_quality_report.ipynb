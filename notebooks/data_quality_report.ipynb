{
 "cells": [
  {
   "cell_type": "code",
   "execution_count": 3,
   "id": "e2b371ae",
   "metadata": {},
   "outputs": [
    {
     "name": "stderr",
     "output_type": "stream",
     "text": [
      "C:\\Users\\musra\\AppData\\Local\\Temp\\ipykernel_14492\\1550670532.py:3: DtypeWarning: Columns (1,24,25,26,27,28,29,30,31,32,33,43,47,84,85,86,87,88,89,90,91,92,93,94,97,103,106,124,126,127) have mixed types. Specify dtype option on import or set low_memory=False.\n",
      "  df = pd.read_csv(\"../data/raw/GRD_PUBLICO_2024.txt\", sep=\"|\", encoding=\"latin-1\")\n"
     ]
    }
   ],
   "source": [
    "import pandas as pd\n",
    "\n",
    "df = pd.read_csv(\"../data/raw/GRD_PUBLICO_2024.txt\", sep=\"|\", encoding=\"latin-1\")"
   ]
  },
  {
   "cell_type": "code",
   "execution_count": 13,
   "id": "6a6b0a69",
   "metadata": {},
   "outputs": [],
   "source": [
    "df_cleaned = df[df['SERVICIO_SALUD'] == 'METROPOLITANO CENTRAL']\n",
    "\n",
    "df_cleaned.to_csv(\"../data/raw/GRD_PUBLICO_2024_CENTRAL.csv\", index=False)"
   ]
  }
 ],
 "metadata": {
  "kernelspec": {
   "display_name": "proyecto_final (Python 3.12)",
   "language": "python",
   "name": "proyecto_final"
  },
  "language_info": {
   "codemirror_mode": {
    "name": "ipython",
    "version": 3
   },
   "file_extension": ".py",
   "mimetype": "text/x-python",
   "name": "python",
   "nbconvert_exporter": "python",
   "pygments_lexer": "ipython3",
   "version": "3.12.4"
  }
 },
 "nbformat": 4,
 "nbformat_minor": 5
}
